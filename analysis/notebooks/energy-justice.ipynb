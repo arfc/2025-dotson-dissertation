{
 "cells": [
  {
   "cell_type": "code",
   "execution_count": 5,
   "metadata": {},
   "outputs": [
    {
     "data": {
      "text/plain": [
       "True"
      ]
     },
     "execution_count": 5,
     "metadata": {},
     "output_type": "execute_result"
    }
   ],
   "source": [
    "import requests\n",
    "import matplotlib.pyplot as plt\n",
    "import json\n",
    "import numpy as np\n",
    "import pandas as pd\n",
    "import geopandas as gpd\n",
    "import us\n",
    "import os\n",
    "from dotenv import load_dotenv\n",
    "\n",
    "load_dotenv(\"../../.env\")"
   ]
  },
  {
   "cell_type": "code",
   "execution_count": 7,
   "metadata": {},
   "outputs": [],
   "source": [
    "eia_key = os.environ['EIA_API_KEY']"
   ]
  },
  {
   "attachments": {},
   "cell_type": "markdown",
   "metadata": {},
   "source": [
    "# Access power plant data"
   ]
  },
  {
   "cell_type": "code",
   "execution_count": 4,
   "metadata": {},
   "outputs": [],
   "source": [
    "params =  {\n",
    "    \"frequency\": \"monthly\",\n",
    "    \"data\": [\n",
    "        \"latitude\",\n",
    "        \"longitude\",\n",
    "        \"nameplate-capacity-mw\",\n",
    "        \"operating-year-month\"\n",
    "    ],\n",
    "    \"facets\": {\n",
    "        \"energy_source_code\": [\n",
    "            \"BIT\",\n",
    "            \"SUB\"\n",
    "        ]\n",
    "    },\n",
    "    \"start\": \"2024-09\",\n",
    "    \"end\": None,\n",
    "    \"sort\": [\n",
    "        {\n",
    "            \"column\": \"period\",\n",
    "            \"direction\": \"desc\"\n",
    "        }\n",
    "    ],\n",
    "    \"offset\": 0,\n",
    "    \"length\": 5000\n",
    "}"
   ]
  },
  {
   "cell_type": "code",
   "execution_count": 8,
   "metadata": {},
   "outputs": [],
   "source": [
    "BASE_URL = \"https://api.eia.gov/v2/\"\n",
    "\n",
    "dataset = \"electricity/operating-generator-capacity\"\n",
    "route = dataset + \"/data\""
   ]
  },
  {
   "cell_type": "code",
   "execution_count": 10,
   "metadata": {},
   "outputs": [],
   "source": [
    "headers = {\n",
    "            \"X-Api-Key\": eia_key,\n",
    "            \"X-Params\": json.dumps(params),\n",
    "        }"
   ]
  },
  {
   "cell_type": "code",
   "execution_count": 11,
   "metadata": {},
   "outputs": [],
   "source": [
    "r = requests.get(BASE_URL+route, headers=headers)"
   ]
  },
  {
   "cell_type": "code",
   "execution_count": 14,
   "metadata": {},
   "outputs": [
    {
     "name": "stdout",
     "output_type": "stream",
     "text": [
      "Total records: 428\n"
     ]
    }
   ],
   "source": [
    "response = r.json()['response']\n",
    "\n",
    "print(f\"Total records: {response['total']}\")\n",
    "\n",
    "data = response['data']\n",
    "\n",
    "df = pd.DataFrame(data)\n",
    "df.drop(columns=['stateName','sector','sectorName','entityid',\n",
    "                    'balancing-authority-name','statusDescription', \n",
    "                    'entityName','nameplate-capacity-mw-units',\n",
    "                    'energy_source_code','generatorid','status',\n",
    "                    'unit', 'period'\n",
    "                    ],\n",
    "        inplace=True)"
   ]
  },
  {
   "cell_type": "code",
   "execution_count": 18,
   "metadata": {},
   "outputs": [],
   "source": [
    "df['nameplate-capacity-mw'] = df['nameplate-capacity-mw'].astype('float')"
   ]
  },
  {
   "cell_type": "code",
   "execution_count": 25,
   "metadata": {},
   "outputs": [],
   "source": [
    "df = df.pivot_table(index=['stateid','plantid','balancing_authority_code','latitude','longitude'],\n",
    "               columns=['technology'],\n",
    "               values=['nameplate-capacity-mw']).reset_index(drop=False)"
   ]
  },
  {
   "cell_type": "code",
   "execution_count": null,
   "metadata": {},
   "outputs": [],
   "source": []
  }
 ],
 "metadata": {
  "kernelspec": {
   "display_name": "thesis",
   "language": "python",
   "name": "python3"
  },
  "language_info": {
   "codemirror_mode": {
    "name": "ipython",
    "version": 3
   },
   "file_extension": ".py",
   "mimetype": "text/x-python",
   "name": "python",
   "nbconvert_exporter": "python",
   "pygments_lexer": "ipython3",
   "version": "3.11.10"
  },
  "orig_nbformat": 4
 },
 "nbformat": 4,
 "nbformat_minor": 2
}
