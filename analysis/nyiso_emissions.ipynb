{
 "cells": [
  {
   "cell_type": "code",
   "execution_count": 1,
   "metadata": {},
   "outputs": [],
   "source": [
    "import glob\n",
    "import pandas as pd\n",
    "import numpy as np\n",
    "import matplotlib.pyplot as plt\n",
    "import seaborn as sb\n",
    "import warnings\n",
    "import calendar\n",
    "import requests\n",
    "import os\n",
    "from gridstatus import EIA, NYISO\n",
    "from dotenv import load_dotenv\n",
    "warnings.filterwarnings('ignore')\n",
    "\n",
    "load_dotenv(\"../.env\")\n",
    "eia_api_key = os.environ['EIA_API_KEY']"
   ]
  },
  {
   "cell_type": "code",
   "execution_count": 2,
   "metadata": {},
   "outputs": [],
   "source": [
    "nyiso = NYISO()"
   ]
  },
  {
   "cell_type": "code",
   "execution_count": 75,
   "metadata": {},
   "outputs": [
    {
     "name": "stderr",
     "output_type": "stream",
     "text": [
      "100%|██████████| 81/81 [00:50<00:00,  1.62it/s]\n"
     ]
    }
   ],
   "source": [
    "fuel_mix = nyiso.get_fuel_mix(\"2018-01-01\", end=\"2024-10-01\").set_index(\"Time\").resample(\"h\").mean()"
   ]
  },
  {
   "cell_type": "code",
   "execution_count": 76,
   "metadata": {},
   "outputs": [
    {
     "name": "stderr",
     "output_type": "stream",
     "text": [
      "100%|██████████| 81/81 [01:04<00:00,  1.26it/s]\n"
     ]
    }
   ],
   "source": [
    "demand = nyiso.get_load('2018-01-01', end='2024-10-01').set_index('Time').loc[:,\"Load\"].resample(\"h\").mean()"
   ]
  },
  {
   "cell_type": "code",
   "execution_count": 79,
   "metadata": {},
   "outputs": [],
   "source": [
    "nyiso_combined = fuel_mix.copy()"
   ]
  },
  {
   "cell_type": "code",
   "execution_count": 82,
   "metadata": {},
   "outputs": [],
   "source": [
    "nyiso_combined = nyiso_combined.assign(Imports=demand - fuel_mix.sum(axis=1))"
   ]
  },
  {
   "cell_type": "code",
   "execution_count": 85,
   "metadata": {},
   "outputs": [],
   "source": [
    "nyiso_combined = nyiso_combined[['Imports','Nuclear','Hydro','Natural Gas','Dual Fuel','Other Fossil Fuels','Wind','Other Renewables']]"
   ]
  },
  {
   "cell_type": "code",
   "execution_count": 117,
   "metadata": {},
   "outputs": [
    {
     "data": {
      "text/html": [
       "<div>\n",
       "<style scoped>\n",
       "    .dataframe tbody tr th:only-of-type {\n",
       "        vertical-align: middle;\n",
       "    }\n",
       "\n",
       "    .dataframe tbody tr th {\n",
       "        vertical-align: top;\n",
       "    }\n",
       "\n",
       "    .dataframe thead th {\n",
       "        text-align: right;\n",
       "    }\n",
       "</style>\n",
       "<table border=\"1\" class=\"dataframe\">\n",
       "  <thead>\n",
       "    <tr style=\"text-align: right;\">\n",
       "      <th></th>\n",
       "      <th>Load</th>\n",
       "    </tr>\n",
       "    <tr>\n",
       "      <th>Time</th>\n",
       "      <th></th>\n",
       "    </tr>\n",
       "  </thead>\n",
       "  <tbody>\n",
       "    <tr>\n",
       "      <th>2018-12-31 00:00:00-05:00</th>\n",
       "      <td>1.162981e+07</td>\n",
       "    </tr>\n",
       "    <tr>\n",
       "      <th>2019-12-31 00:00:00-05:00</th>\n",
       "      <td>6.345226e+06</td>\n",
       "    </tr>\n",
       "    <tr>\n",
       "      <th>2020-12-31 00:00:00-05:00</th>\n",
       "      <td>7.122230e+05</td>\n",
       "    </tr>\n",
       "    <tr>\n",
       "      <th>2021-12-31 00:00:00-05:00</th>\n",
       "      <td>0.000000e+00</td>\n",
       "    </tr>\n",
       "    <tr>\n",
       "      <th>2022-12-31 00:00:00-05:00</th>\n",
       "      <td>3.196908e+06</td>\n",
       "    </tr>\n",
       "    <tr>\n",
       "      <th>2023-12-31 00:00:00-05:00</th>\n",
       "      <td>-2.434775e+06</td>\n",
       "    </tr>\n",
       "  </tbody>\n",
       "</table>\n",
       "</div>"
      ],
      "text/plain": [
       "                                   Load\n",
       "Time                                   \n",
       "2018-12-31 00:00:00-05:00  1.162981e+07\n",
       "2019-12-31 00:00:00-05:00  6.345226e+06\n",
       "2020-12-31 00:00:00-05:00  7.122230e+05\n",
       "2021-12-31 00:00:00-05:00  0.000000e+00\n",
       "2022-12-31 00:00:00-05:00  3.196908e+06\n",
       "2023-12-31 00:00:00-05:00 -2.434775e+06"
      ]
     },
     "execution_count": 117,
     "metadata": {},
     "output_type": "execute_result"
    }
   ],
   "source": [
    "(demand.to_frame().resample('Y').sum().loc[:\"2023\"] - demand.to_frame().resample(\"Y\").sum().loc['2021'].values)"
   ]
  },
  {
   "cell_type": "code",
   "execution_count": 118,
   "metadata": {},
   "outputs": [],
   "source": [
    "nyiso_mix_yearly = nyiso_combined.resample('Y').sum()\n",
    "nyiso_load_yearly = demand.to_frame().resample('Y').sum()"
   ]
  },
  {
   "cell_type": "code",
   "execution_count": 119,
   "metadata": {},
   "outputs": [
    {
     "data": {
      "text/plain": [
       "DatetimeIndex(['2018-12-31 00:00:00-05:00', '2019-12-31 00:00:00-05:00',\n",
       "               '2020-12-31 00:00:00-05:00', '2021-12-31 00:00:00-05:00',\n",
       "               '2022-12-31 00:00:00-05:00', '2023-12-31 00:00:00-05:00',\n",
       "               '2024-12-31 00:00:00-05:00'],\n",
       "              dtype='datetime64[ns, US/Eastern]', name='Time', freq='YE-DEC')"
      ]
     },
     "execution_count": 119,
     "metadata": {},
     "output_type": "execute_result"
    }
   ],
   "source": [
    "nyiso_load_yearly.index"
   ]
  },
  {
   "cell_type": "code",
   "execution_count": 120,
   "metadata": {},
   "outputs": [
    {
     "data": {
      "text/plain": [
       "DatetimeIndex(['2018-12-31 00:00:00-05:00', '2019-12-31 00:00:00-05:00',\n",
       "               '2020-12-31 00:00:00-05:00', '2021-12-31 00:00:00-05:00',\n",
       "               '2022-12-31 00:00:00-05:00', '2023-12-31 00:00:00-05:00',\n",
       "               '2024-12-31 00:00:00-05:00'],\n",
       "              dtype='datetime64[ns, US/Eastern]', name='Time', freq='YE-DEC')"
      ]
     },
     "execution_count": 120,
     "metadata": {},
     "output_type": "execute_result"
    }
   ],
   "source": [
    "nyiso_mix_yearly.index"
   ]
  },
  {
   "cell_type": "code",
   "execution_count": 127,
   "metadata": {},
   "outputs": [
    {
     "data": {
      "text/html": [
       "<div>\n",
       "<style scoped>\n",
       "    .dataframe tbody tr th:only-of-type {\n",
       "        vertical-align: middle;\n",
       "    }\n",
       "\n",
       "    .dataframe tbody tr th {\n",
       "        vertical-align: top;\n",
       "    }\n",
       "\n",
       "    .dataframe thead th {\n",
       "        text-align: right;\n",
       "    }\n",
       "</style>\n",
       "<table border=\"1\" class=\"dataframe\">\n",
       "  <thead>\n",
       "    <tr style=\"text-align: right;\">\n",
       "      <th></th>\n",
       "      <th>Load</th>\n",
       "    </tr>\n",
       "    <tr>\n",
       "      <th>Time</th>\n",
       "      <th></th>\n",
       "    </tr>\n",
       "  </thead>\n",
       "  <tbody>\n",
       "    <tr>\n",
       "      <th>2018-12-31 00:00:00-05:00</th>\n",
       "      <td>1.162981e+07</td>\n",
       "    </tr>\n",
       "    <tr>\n",
       "      <th>2019-12-31 00:00:00-05:00</th>\n",
       "      <td>6.345226e+06</td>\n",
       "    </tr>\n",
       "    <tr>\n",
       "      <th>2020-12-31 00:00:00-05:00</th>\n",
       "      <td>7.122230e+05</td>\n",
       "    </tr>\n",
       "    <tr>\n",
       "      <th>2021-12-31 00:00:00-05:00</th>\n",
       "      <td>0.000000e+00</td>\n",
       "    </tr>\n",
       "    <tr>\n",
       "      <th>2022-12-31 00:00:00-05:00</th>\n",
       "      <td>3.196908e+06</td>\n",
       "    </tr>\n",
       "    <tr>\n",
       "      <th>2023-12-31 00:00:00-05:00</th>\n",
       "      <td>-2.434775e+06</td>\n",
       "    </tr>\n",
       "  </tbody>\n",
       "</table>\n",
       "</div>"
      ],
      "text/plain": [
       "                                   Load\n",
       "Time                                   \n",
       "2018-12-31 00:00:00-05:00  1.162981e+07\n",
       "2019-12-31 00:00:00-05:00  6.345226e+06\n",
       "2020-12-31 00:00:00-05:00  7.122230e+05\n",
       "2021-12-31 00:00:00-05:00  0.000000e+00\n",
       "2022-12-31 00:00:00-05:00  3.196908e+06\n",
       "2023-12-31 00:00:00-05:00 -2.434775e+06"
      ]
     },
     "execution_count": 127,
     "metadata": {},
     "output_type": "execute_result"
    }
   ],
   "source": [
    "demand.to_frame().resample('Y').sum().loc[:\"2023\"] - demand.to_frame().resample(\"Y\").sum().loc['2021'].values"
   ]
  },
  {
   "cell_type": "code",
   "execution_count": null,
   "metadata": {},
   "outputs": [],
   "source": []
  },
  {
   "cell_type": "code",
   "execution_count": 126,
   "metadata": {},
   "outputs": [
    {
     "data": {
      "text/plain": [
       "<Axes: xlabel='Time'>"
      ]
     },
     "execution_count": 126,
     "metadata": {},
     "output_type": "execute_result"
    },
    {
     "data": {
      "image/png": "[encoded data removed]",
      "text/plain": [
       "<Figure size 640x480 with 1 Axes>"
      ]
     },
     "metadata": {},
     "output_type": "display_data"
    },
    {
     "data": {
      "image/png": "[encoded data removed]",
      "text/plain": [
       "<Figure size 640x480 with 1 Axes>"
      ]
     },
     "metadata": {},
     "output_type": "display_data"
    }
   ],
   "source": [
    "# fig, ax = plt.subplots()\n",
    "ax =(demand.to_frame().resample('Y').sum().loc[:\"2023\"] - demand.to_frame().resample(\"Y\").sum().loc['2021'].values).plot(linestyle='--', marker='o')\n",
    "(nyiso_combined.resample('Y').sum().loc[:\"2023\"] - nyiso_combined.resample('Y').sum().loc[\"2021\"].values).plot(ax=ax, kind='bar')\n"
   ]
  },
  {
   "cell_type": "code",
   "execution_count": null,
   "metadata": {},
   "outputs": [],
   "source": []
  },
  {
   "cell_type": "code",
   "execution_count": null,
   "metadata": {},
   "outputs": [],
   "source": []
  },
  {
   "cell_type": "code",
   "execution_count": null,
   "metadata": {},
   "outputs": [],
   "source": []
  },
  {
   "attachments": {},
   "cell_type": "markdown",
   "metadata": {},
   "source": [
    "# Get interchange amount"
   ]
  },
  {
   "cell_type": "code",
   "execution_count": 29,
   "metadata": {},
   "outputs": [],
   "source": [
    "eia = EIA(eia_api_key)"
   ]
  },
  {
   "cell_type": "code",
   "execution_count": 67,
   "metadata": {},
   "outputs": [
    {
     "name": "stdout",
     "output_type": "stream",
     "text": [
      "Fetching data from https://api.eia.gov/v2/electricity/rto/region-data/data/\n",
      "Params: {'start': '2019-01-01T00', 'end': '2019-01-02T00', 'frequency': 'hourly', 'data': ['value'], 'facets': {'respondent': ['NYIS']}, 'offset': 0, 'length': 5000, 'sort': [{'column': 'period', 'direction': 'asc'}, {'column': 'respondent', 'direction': 'asc'}, {'column': 'type', 'direction': 'asc'}]}\n",
      "Concurrent workers: 4\n",
      "Total records: 100\n",
      "Total pages: 1\n",
      "Fetching data:\n"
     ]
    }
   ],
   "source": [
    "nyis_eia = eia.get_dataset(dataset=\"electricity/rto/region-data\",\n",
    "                start=\"2019-01-01\",\n",
    "                end=\"2019-01-02\",\n",
    "                facets={'respondent':['NYIS']},\n",
    "                frequency='hourly',\n",
    "                n_workers=4,\n",
    "                verbose=True)"
   ]
  },
  {
   "cell_type": "code",
   "execution_count": 68,
   "metadata": {},
   "outputs": [],
   "source": [
    "nyis_eia = nyis_eia.set_index('Interval Start').drop(columns=['Interval End','Respondent','Respondent Name'])"
   ]
  },
  {
   "cell_type": "code",
   "execution_count": 69,
   "metadata": {},
   "outputs": [
    {
     "data": {
      "text/html": [
       "<div>\n",
       "<style scoped>\n",
       "    .dataframe tbody tr th:only-of-type {\n",
       "        vertical-align: middle;\n",
       "    }\n",
       "\n",
       "    .dataframe tbody tr th {\n",
       "        vertical-align: top;\n",
       "    }\n",
       "\n",
       "    .dataframe thead th {\n",
       "        text-align: right;\n",
       "    }\n",
       "</style>\n",
       "<table border=\"1\" class=\"dataframe\">\n",
       "  <thead>\n",
       "    <tr style=\"text-align: right;\">\n",
       "      <th></th>\n",
       "      <th>Load</th>\n",
       "      <th>Load Forecast</th>\n",
       "      <th>Net Generation</th>\n",
       "      <th>Total Interchange</th>\n",
       "    </tr>\n",
       "    <tr>\n",
       "      <th>Interval Start</th>\n",
       "      <th></th>\n",
       "      <th></th>\n",
       "      <th></th>\n",
       "      <th></th>\n",
       "    </tr>\n",
       "  </thead>\n",
       "  <tbody>\n",
       "    <tr>\n",
       "      <th>2018-12-31 23:00:00+00:00</th>\n",
       "      <td>19586.0</td>\n",
       "      <td>19468.0</td>\n",
       "      <td>16454.0</td>\n",
       "      <td>-3132.0</td>\n",
       "    </tr>\n",
       "    <tr>\n",
       "      <th>2019-01-01 00:00:00+00:00</th>\n",
       "      <td>18891.0</td>\n",
       "      <td>18752.0</td>\n",
       "      <td>15841.0</td>\n",
       "      <td>-3050.0</td>\n",
       "    </tr>\n",
       "    <tr>\n",
       "      <th>2019-01-01 01:00:00+00:00</th>\n",
       "      <td>18198.0</td>\n",
       "      <td>17925.0</td>\n",
       "      <td>15150.0</td>\n",
       "      <td>-3048.0</td>\n",
       "    </tr>\n",
       "    <tr>\n",
       "      <th>2019-01-01 02:00:00+00:00</th>\n",
       "      <td>17423.0</td>\n",
       "      <td>17091.0</td>\n",
       "      <td>14718.0</td>\n",
       "      <td>-2705.0</td>\n",
       "    </tr>\n",
       "    <tr>\n",
       "      <th>2019-01-01 03:00:00+00:00</th>\n",
       "      <td>16613.0</td>\n",
       "      <td>16306.0</td>\n",
       "      <td>14103.0</td>\n",
       "      <td>-2510.0</td>\n",
       "    </tr>\n",
       "    <tr>\n",
       "      <th>2019-01-01 04:00:00+00:00</th>\n",
       "      <td>15774.0</td>\n",
       "      <td>15617.0</td>\n",
       "      <td>13191.0</td>\n",
       "      <td>-2583.0</td>\n",
       "    </tr>\n",
       "    <tr>\n",
       "      <th>2019-01-01 05:00:00+00:00</th>\n",
       "      <td>15053.0</td>\n",
       "      <td>14858.0</td>\n",
       "      <td>12725.0</td>\n",
       "      <td>-2328.0</td>\n",
       "    </tr>\n",
       "    <tr>\n",
       "      <th>2019-01-01 06:00:00+00:00</th>\n",
       "      <td>14481.0</td>\n",
       "      <td>14216.0</td>\n",
       "      <td>12473.0</td>\n",
       "      <td>-2008.0</td>\n",
       "    </tr>\n",
       "    <tr>\n",
       "      <th>2019-01-01 07:00:00+00:00</th>\n",
       "      <td>13927.0</td>\n",
       "      <td>13691.0</td>\n",
       "      <td>12262.0</td>\n",
       "      <td>-1665.0</td>\n",
       "    </tr>\n",
       "    <tr>\n",
       "      <th>2019-01-01 08:00:00+00:00</th>\n",
       "      <td>13566.0</td>\n",
       "      <td>13356.0</td>\n",
       "      <td>12054.0</td>\n",
       "      <td>-1512.0</td>\n",
       "    </tr>\n",
       "    <tr>\n",
       "      <th>2019-01-01 09:00:00+00:00</th>\n",
       "      <td>13353.0</td>\n",
       "      <td>13230.0</td>\n",
       "      <td>11927.0</td>\n",
       "      <td>-1426.0</td>\n",
       "    </tr>\n",
       "    <tr>\n",
       "      <th>2019-01-01 10:00:00+00:00</th>\n",
       "      <td>13475.0</td>\n",
       "      <td>13345.0</td>\n",
       "      <td>12173.0</td>\n",
       "      <td>-1302.0</td>\n",
       "    </tr>\n",
       "    <tr>\n",
       "      <th>2019-01-01 11:00:00+00:00</th>\n",
       "      <td>13846.0</td>\n",
       "      <td>13690.0</td>\n",
       "      <td>12430.0</td>\n",
       "      <td>-1416.0</td>\n",
       "    </tr>\n",
       "    <tr>\n",
       "      <th>2019-01-01 12:00:00+00:00</th>\n",
       "      <td>14199.0</td>\n",
       "      <td>13973.0</td>\n",
       "      <td>12548.0</td>\n",
       "      <td>-1651.0</td>\n",
       "    </tr>\n",
       "    <tr>\n",
       "      <th>2019-01-01 13:00:00+00:00</th>\n",
       "      <td>14570.0</td>\n",
       "      <td>14346.0</td>\n",
       "      <td>12784.0</td>\n",
       "      <td>-1786.0</td>\n",
       "    </tr>\n",
       "    <tr>\n",
       "      <th>2019-01-01 14:00:00+00:00</th>\n",
       "      <td>15172.0</td>\n",
       "      <td>14904.0</td>\n",
       "      <td>13136.0</td>\n",
       "      <td>-2036.0</td>\n",
       "    </tr>\n",
       "    <tr>\n",
       "      <th>2019-01-01 15:00:00+00:00</th>\n",
       "      <td>15796.0</td>\n",
       "      <td>15429.0</td>\n",
       "      <td>14049.0</td>\n",
       "      <td>-1747.0</td>\n",
       "    </tr>\n",
       "    <tr>\n",
       "      <th>2019-01-01 16:00:00+00:00</th>\n",
       "      <td>16202.0</td>\n",
       "      <td>15765.0</td>\n",
       "      <td>14326.0</td>\n",
       "      <td>-1876.0</td>\n",
       "    </tr>\n",
       "    <tr>\n",
       "      <th>2019-01-01 17:00:00+00:00</th>\n",
       "      <td>16281.0</td>\n",
       "      <td>15971.0</td>\n",
       "      <td>14284.0</td>\n",
       "      <td>-1997.0</td>\n",
       "    </tr>\n",
       "    <tr>\n",
       "      <th>2019-01-01 18:00:00+00:00</th>\n",
       "      <td>16245.0</td>\n",
       "      <td>16038.0</td>\n",
       "      <td>13941.0</td>\n",
       "      <td>-2304.0</td>\n",
       "    </tr>\n",
       "    <tr>\n",
       "      <th>2019-01-01 19:00:00+00:00</th>\n",
       "      <td>16420.0</td>\n",
       "      <td>16088.0</td>\n",
       "      <td>13808.0</td>\n",
       "      <td>-2612.0</td>\n",
       "    </tr>\n",
       "    <tr>\n",
       "      <th>2019-01-01 20:00:00+00:00</th>\n",
       "      <td>16772.0</td>\n",
       "      <td>16266.0</td>\n",
       "      <td>14257.0</td>\n",
       "      <td>-2515.0</td>\n",
       "    </tr>\n",
       "    <tr>\n",
       "      <th>2019-01-01 21:00:00+00:00</th>\n",
       "      <td>17713.0</td>\n",
       "      <td>17020.0</td>\n",
       "      <td>14900.0</td>\n",
       "      <td>-2813.0</td>\n",
       "    </tr>\n",
       "    <tr>\n",
       "      <th>2019-01-01 22:00:00+00:00</th>\n",
       "      <td>18830.0</td>\n",
       "      <td>18285.0</td>\n",
       "      <td>15583.0</td>\n",
       "      <td>-3247.0</td>\n",
       "    </tr>\n",
       "    <tr>\n",
       "      <th>2019-01-01 23:00:00+00:00</th>\n",
       "      <td>18788.0</td>\n",
       "      <td>18337.0</td>\n",
       "      <td>15428.0</td>\n",
       "      <td>-3360.0</td>\n",
       "    </tr>\n",
       "  </tbody>\n",
       "</table>\n",
       "</div>"
      ],
      "text/plain": [
       "                              Load  Load Forecast  Net Generation  \\\n",
       "Interval Start                                                      \n",
       "2018-12-31 23:00:00+00:00  19586.0        19468.0         16454.0   \n",
       "2019-01-01 00:00:00+00:00  18891.0        18752.0         15841.0   \n",
       "2019-01-01 01:00:00+00:00  18198.0        17925.0         15150.0   \n",
       "2019-01-01 02:00:00+00:00  17423.0        17091.0         14718.0   \n",
       "2019-01-01 03:00:00+00:00  16613.0        16306.0         14103.0   \n",
       "2019-01-01 04:00:00+00:00  15774.0        15617.0         13191.0   \n",
       "2019-01-01 05:00:00+00:00  15053.0        14858.0         12725.0   \n",
       "2019-01-01 06:00:00+00:00  14481.0        14216.0         12473.0   \n",
       "2019-01-01 07:00:00+00:00  13927.0        13691.0         12262.0   \n",
       "2019-01-01 08:00:00+00:00  13566.0        13356.0         12054.0   \n",
       "2019-01-01 09:00:00+00:00  13353.0        13230.0         11927.0   \n",
       "2019-01-01 10:00:00+00:00  13475.0        13345.0         12173.0   \n",
       "2019-01-01 11:00:00+00:00  13846.0        13690.0         12430.0   \n",
       "2019-01-01 12:00:00+00:00  14199.0        13973.0         12548.0   \n",
       "2019-01-01 13:00:00+00:00  14570.0        14346.0         12784.0   \n",
       "2019-01-01 14:00:00+00:00  15172.0        14904.0         13136.0   \n",
       "2019-01-01 15:00:00+00:00  15796.0        15429.0         14049.0   \n",
       "2019-01-01 16:00:00+00:00  16202.0        15765.0         14326.0   \n",
       "2019-01-01 17:00:00+00:00  16281.0        15971.0         14284.0   \n",
       "2019-01-01 18:00:00+00:00  16245.0        16038.0         13941.0   \n",
       "2019-01-01 19:00:00+00:00  16420.0        16088.0         13808.0   \n",
       "2019-01-01 20:00:00+00:00  16772.0        16266.0         14257.0   \n",
       "2019-01-01 21:00:00+00:00  17713.0        17020.0         14900.0   \n",
       "2019-01-01 22:00:00+00:00  18830.0        18285.0         15583.0   \n",
       "2019-01-01 23:00:00+00:00  18788.0        18337.0         15428.0   \n",
       "\n",
       "                           Total Interchange  \n",
       "Interval Start                                \n",
       "2018-12-31 23:00:00+00:00            -3132.0  \n",
       "2019-01-01 00:00:00+00:00            -3050.0  \n",
       "2019-01-01 01:00:00+00:00            -3048.0  \n",
       "2019-01-01 02:00:00+00:00            -2705.0  \n",
       "2019-01-01 03:00:00+00:00            -2510.0  \n",
       "2019-01-01 04:00:00+00:00            -2583.0  \n",
       "2019-01-01 05:00:00+00:00            -2328.0  \n",
       "2019-01-01 06:00:00+00:00            -2008.0  \n",
       "2019-01-01 07:00:00+00:00            -1665.0  \n",
       "2019-01-01 08:00:00+00:00            -1512.0  \n",
       "2019-01-01 09:00:00+00:00            -1426.0  \n",
       "2019-01-01 10:00:00+00:00            -1302.0  \n",
       "2019-01-01 11:00:00+00:00            -1416.0  \n",
       "2019-01-01 12:00:00+00:00            -1651.0  \n",
       "2019-01-01 13:00:00+00:00            -1786.0  \n",
       "2019-01-01 14:00:00+00:00            -2036.0  \n",
       "2019-01-01 15:00:00+00:00            -1747.0  \n",
       "2019-01-01 16:00:00+00:00            -1876.0  \n",
       "2019-01-01 17:00:00+00:00            -1997.0  \n",
       "2019-01-01 18:00:00+00:00            -2304.0  \n",
       "2019-01-01 19:00:00+00:00            -2612.0  \n",
       "2019-01-01 20:00:00+00:00            -2515.0  \n",
       "2019-01-01 21:00:00+00:00            -2813.0  \n",
       "2019-01-01 22:00:00+00:00            -3247.0  \n",
       "2019-01-01 23:00:00+00:00            -3360.0  "
      ]
     },
     "execution_count": 69,
     "metadata": {},
     "output_type": "execute_result"
    }
   ],
   "source": [
    "nyis_eia"
   ]
  },
  {
   "cell_type": "code",
   "execution_count": 70,
   "metadata": {},
   "outputs": [
    {
     "data": {
      "text/html": [
       "<div>\n",
       "<style scoped>\n",
       "    .dataframe tbody tr th:only-of-type {\n",
       "        vertical-align: middle;\n",
       "    }\n",
       "\n",
       "    .dataframe tbody tr th {\n",
       "        vertical-align: top;\n",
       "    }\n",
       "\n",
       "    .dataframe thead th {\n",
       "        text-align: right;\n",
       "    }\n",
       "</style>\n",
       "<table border=\"1\" class=\"dataframe\">\n",
       "  <thead>\n",
       "    <tr style=\"text-align: right;\">\n",
       "      <th></th>\n",
       "      <th>Load</th>\n",
       "      <th>Load Forecast</th>\n",
       "      <th>Net Generation</th>\n",
       "      <th>Total Interchange</th>\n",
       "    </tr>\n",
       "    <tr>\n",
       "      <th>Interval Start</th>\n",
       "      <th></th>\n",
       "      <th></th>\n",
       "      <th></th>\n",
       "      <th></th>\n",
       "    </tr>\n",
       "  </thead>\n",
       "  <tbody>\n",
       "    <tr>\n",
       "      <th>2019-01-01 00:00:00-05:00</th>\n",
       "      <td>15053.0</td>\n",
       "      <td>14858.0</td>\n",
       "      <td>12725.0</td>\n",
       "      <td>-2328.0</td>\n",
       "    </tr>\n",
       "    <tr>\n",
       "      <th>2019-01-01 01:00:00-05:00</th>\n",
       "      <td>14481.0</td>\n",
       "      <td>14216.0</td>\n",
       "      <td>12473.0</td>\n",
       "      <td>-2008.0</td>\n",
       "    </tr>\n",
       "    <tr>\n",
       "      <th>2019-01-01 02:00:00-05:00</th>\n",
       "      <td>13927.0</td>\n",
       "      <td>13691.0</td>\n",
       "      <td>12262.0</td>\n",
       "      <td>-1665.0</td>\n",
       "    </tr>\n",
       "    <tr>\n",
       "      <th>2019-01-01 03:00:00-05:00</th>\n",
       "      <td>13566.0</td>\n",
       "      <td>13356.0</td>\n",
       "      <td>12054.0</td>\n",
       "      <td>-1512.0</td>\n",
       "    </tr>\n",
       "    <tr>\n",
       "      <th>2019-01-01 04:00:00-05:00</th>\n",
       "      <td>13353.0</td>\n",
       "      <td>13230.0</td>\n",
       "      <td>11927.0</td>\n",
       "      <td>-1426.0</td>\n",
       "    </tr>\n",
       "    <tr>\n",
       "      <th>2019-01-01 05:00:00-05:00</th>\n",
       "      <td>13475.0</td>\n",
       "      <td>13345.0</td>\n",
       "      <td>12173.0</td>\n",
       "      <td>-1302.0</td>\n",
       "    </tr>\n",
       "    <tr>\n",
       "      <th>2019-01-01 06:00:00-05:00</th>\n",
       "      <td>13846.0</td>\n",
       "      <td>13690.0</td>\n",
       "      <td>12430.0</td>\n",
       "      <td>-1416.0</td>\n",
       "    </tr>\n",
       "    <tr>\n",
       "      <th>2019-01-01 07:00:00-05:00</th>\n",
       "      <td>14199.0</td>\n",
       "      <td>13973.0</td>\n",
       "      <td>12548.0</td>\n",
       "      <td>-1651.0</td>\n",
       "    </tr>\n",
       "    <tr>\n",
       "      <th>2019-01-01 08:00:00-05:00</th>\n",
       "      <td>14570.0</td>\n",
       "      <td>14346.0</td>\n",
       "      <td>12784.0</td>\n",
       "      <td>-1786.0</td>\n",
       "    </tr>\n",
       "    <tr>\n",
       "      <th>2019-01-01 09:00:00-05:00</th>\n",
       "      <td>15172.0</td>\n",
       "      <td>14904.0</td>\n",
       "      <td>13136.0</td>\n",
       "      <td>-2036.0</td>\n",
       "    </tr>\n",
       "    <tr>\n",
       "      <th>2019-01-01 10:00:00-05:00</th>\n",
       "      <td>15796.0</td>\n",
       "      <td>15429.0</td>\n",
       "      <td>14049.0</td>\n",
       "      <td>-1747.0</td>\n",
       "    </tr>\n",
       "    <tr>\n",
       "      <th>2019-01-01 11:00:00-05:00</th>\n",
       "      <td>16202.0</td>\n",
       "      <td>15765.0</td>\n",
       "      <td>14326.0</td>\n",
       "      <td>-1876.0</td>\n",
       "    </tr>\n",
       "    <tr>\n",
       "      <th>2019-01-01 12:00:00-05:00</th>\n",
       "      <td>16281.0</td>\n",
       "      <td>15971.0</td>\n",
       "      <td>14284.0</td>\n",
       "      <td>-1997.0</td>\n",
       "    </tr>\n",
       "    <tr>\n",
       "      <th>2019-01-01 13:00:00-05:00</th>\n",
       "      <td>16245.0</td>\n",
       "      <td>16038.0</td>\n",
       "      <td>13941.0</td>\n",
       "      <td>-2304.0</td>\n",
       "    </tr>\n",
       "    <tr>\n",
       "      <th>2019-01-01 14:00:00-05:00</th>\n",
       "      <td>16420.0</td>\n",
       "      <td>16088.0</td>\n",
       "      <td>13808.0</td>\n",
       "      <td>-2612.0</td>\n",
       "    </tr>\n",
       "    <tr>\n",
       "      <th>2019-01-01 15:00:00-05:00</th>\n",
       "      <td>16772.0</td>\n",
       "      <td>16266.0</td>\n",
       "      <td>14257.0</td>\n",
       "      <td>-2515.0</td>\n",
       "    </tr>\n",
       "    <tr>\n",
       "      <th>2019-01-01 16:00:00-05:00</th>\n",
       "      <td>17713.0</td>\n",
       "      <td>17020.0</td>\n",
       "      <td>14900.0</td>\n",
       "      <td>-2813.0</td>\n",
       "    </tr>\n",
       "    <tr>\n",
       "      <th>2019-01-01 17:00:00-05:00</th>\n",
       "      <td>18830.0</td>\n",
       "      <td>18285.0</td>\n",
       "      <td>15583.0</td>\n",
       "      <td>-3247.0</td>\n",
       "    </tr>\n",
       "    <tr>\n",
       "      <th>2019-01-01 18:00:00-05:00</th>\n",
       "      <td>18788.0</td>\n",
       "      <td>18337.0</td>\n",
       "      <td>15428.0</td>\n",
       "      <td>-3360.0</td>\n",
       "    </tr>\n",
       "  </tbody>\n",
       "</table>\n",
       "</div>"
      ],
      "text/plain": [
       "                              Load  Load Forecast  Net Generation  \\\n",
       "Interval Start                                                      \n",
       "2019-01-01 00:00:00-05:00  15053.0        14858.0         12725.0   \n",
       "2019-01-01 01:00:00-05:00  14481.0        14216.0         12473.0   \n",
       "2019-01-01 02:00:00-05:00  13927.0        13691.0         12262.0   \n",
       "2019-01-01 03:00:00-05:00  13566.0        13356.0         12054.0   \n",
       "2019-01-01 04:00:00-05:00  13353.0        13230.0         11927.0   \n",
       "2019-01-01 05:00:00-05:00  13475.0        13345.0         12173.0   \n",
       "2019-01-01 06:00:00-05:00  13846.0        13690.0         12430.0   \n",
       "2019-01-01 07:00:00-05:00  14199.0        13973.0         12548.0   \n",
       "2019-01-01 08:00:00-05:00  14570.0        14346.0         12784.0   \n",
       "2019-01-01 09:00:00-05:00  15172.0        14904.0         13136.0   \n",
       "2019-01-01 10:00:00-05:00  15796.0        15429.0         14049.0   \n",
       "2019-01-01 11:00:00-05:00  16202.0        15765.0         14326.0   \n",
       "2019-01-01 12:00:00-05:00  16281.0        15971.0         14284.0   \n",
       "2019-01-01 13:00:00-05:00  16245.0        16038.0         13941.0   \n",
       "2019-01-01 14:00:00-05:00  16420.0        16088.0         13808.0   \n",
       "2019-01-01 15:00:00-05:00  16772.0        16266.0         14257.0   \n",
       "2019-01-01 16:00:00-05:00  17713.0        17020.0         14900.0   \n",
       "2019-01-01 17:00:00-05:00  18830.0        18285.0         15583.0   \n",
       "2019-01-01 18:00:00-05:00  18788.0        18337.0         15428.0   \n",
       "\n",
       "                           Total Interchange  \n",
       "Interval Start                                \n",
       "2019-01-01 00:00:00-05:00            -2328.0  \n",
       "2019-01-01 01:00:00-05:00            -2008.0  \n",
       "2019-01-01 02:00:00-05:00            -1665.0  \n",
       "2019-01-01 03:00:00-05:00            -1512.0  \n",
       "2019-01-01 04:00:00-05:00            -1426.0  \n",
       "2019-01-01 05:00:00-05:00            -1302.0  \n",
       "2019-01-01 06:00:00-05:00            -1416.0  \n",
       "2019-01-01 07:00:00-05:00            -1651.0  \n",
       "2019-01-01 08:00:00-05:00            -1786.0  \n",
       "2019-01-01 09:00:00-05:00            -2036.0  \n",
       "2019-01-01 10:00:00-05:00            -1747.0  \n",
       "2019-01-01 11:00:00-05:00            -1876.0  \n",
       "2019-01-01 12:00:00-05:00            -1997.0  \n",
       "2019-01-01 13:00:00-05:00            -2304.0  \n",
       "2019-01-01 14:00:00-05:00            -2612.0  \n",
       "2019-01-01 15:00:00-05:00            -2515.0  \n",
       "2019-01-01 16:00:00-05:00            -2813.0  \n",
       "2019-01-01 17:00:00-05:00            -3247.0  \n",
       "2019-01-01 18:00:00-05:00            -3360.0  "
      ]
     },
     "execution_count": 70,
     "metadata": {},
     "output_type": "execute_result"
    }
   ],
   "source": [
    "nyis_eia.tz_convert('US/Eastern').loc['2019']"
   ]
  },
  {
   "cell_type": "code",
   "execution_count": 71,
   "metadata": {},
   "outputs": [
    {
     "data": {
      "text/plain": [
       "<matplotlib.legend.Legend at 0x151359f90>"
      ]
     },
     "execution_count": 71,
     "metadata": {},
     "output_type": "execute_result"
    },
    {
     "data": {
      "image/png": "[encoded data removed]",
      "text/plain": [
       "<Figure size 640x480 with 1 Axes>"
      ]
     },
     "metadata": {},
     "output_type": "display_data"
    }
   ],
   "source": [
    "fig, ax = plt.subplots()\n",
    "demand.plot(ax=ax, label='Demand')\n",
    "fuel_mix.sum(axis=1).plot(ax=ax, label='Generation')\n",
    "nyis_eia.tz_convert('US/Eastern').loc['2019', ['Load','Net Generation']].plot(ax=ax)\n",
    "ax.legend()"
   ]
  },
  {
   "cell_type": "code",
   "execution_count": null,
   "metadata": {},
   "outputs": [],
   "source": []
  },
  {
   "cell_type": "code",
   "execution_count": null,
   "metadata": {},
   "outputs": [],
   "source": []
  },
  {
   "cell_type": "code",
   "execution_count": null,
   "metadata": {},
   "outputs": [],
   "source": []
  },
  {
   "cell_type": "code",
   "execution_count": null,
   "metadata": {},
   "outputs": [],
   "source": []
  },
  {
   "cell_type": "code",
   "execution_count": null,
   "metadata": {},
   "outputs": [],
   "source": []
  },
  {
   "cell_type": "code",
   "execution_count": null,
   "metadata": {},
   "outputs": [],
   "source": []
  },
  {
   "attachments": {},
   "cell_type": "markdown",
   "metadata": {},
   "source": [
    "# OLD ANALYSIS FROM 2023"
   ]
  },
  {
   "cell_type": "code",
   "execution_count": 2,
   "metadata": {},
   "outputs": [],
   "source": [
    "months = list(calendar.month_name)[1:]"
   ]
  },
  {
   "cell_type": "code",
   "execution_count": 3,
   "metadata": {},
   "outputs": [
    {
     "name": "stdout",
     "output_type": "stream",
     "text": [
      "2018 ../../data_misc/eia_form923/f923_2012/EIA923_Schedules_2_3_4_5_M_12_2012_Final_Revision.xlsx\n",
      "2019 ../../data_misc/eia_form923/f923_2013/EIA923_Schedules_2_3_4_5_2013_Final_Revision.xlsx\n",
      "2020 ../../data_misc/eia_form923/f923_2014/EIA923_Schedules_2_3_4_5_M_12_2014_Final_Revision.xlsx\n",
      "2021 ../../data_misc/eia_form923/f923_2015/EIA923_Schedules_2_3_4_5_M_12_2015_Final_Revision.xlsx\n"
     ]
    }
   ],
   "source": [
    "path = '../../data_misc/eia_form923/**/EIA923_Schedules_2_3_4_5_M_12_*_Final_Revision.xlsx'\n",
    "files = glob.glob(path)\n",
    "files.append('../../data_misc/eia_form923/f923_2013/EIA923_Schedules_2_3_4_5_2013_Final_Revision.xlsx')\n",
    "files.append('../../data_misc/eia_form923/f923_2021/EIA923_Schedules_2_3_4_5_M_12_2021_Final.xlsx')\n",
    "\n",
    "years = np.arange(2018,2022,1).astype('int')\n",
    "files.sort()\n",
    "for x, y in zip(years, files):\n",
    "    print(x,y)"
   ]
  },
  {
   "cell_type": "code",
   "execution_count": 4,
   "metadata": {},
   "outputs": [
    {
     "data": {
      "text/plain": [
       "['../../data_misc/eia_form923/f923_2018/EIA923_Schedules_2_3_4_5_M_12_2018_Final_Revision.xlsx',\n",
       " '../../data_misc/eia_form923/f923_2019/EIA923_Schedules_2_3_4_5_M_12_2019_Final_Revision.xlsx',\n",
       " '../../data_misc/eia_form923/f923_2020/EIA923_Schedules_2_3_4_5_M_12_2020_Final_Revision.xlsx',\n",
       " '../../data_misc/eia_form923/f923_2021/EIA923_Schedules_2_3_4_5_M_12_2021_Final.xlsx']"
      ]
     },
     "execution_count": 4,
     "metadata": {},
     "output_type": "execute_result"
    }
   ],
   "source": [
    "files[-4:]"
   ]
  },
  {
   "cell_type": "code",
   "execution_count": 5,
   "metadata": {},
   "outputs": [
    {
     "name": "stdout",
     "output_type": "stream",
     "text": [
      "2018 ../../data_misc/eia_data/emissions2018.xlsx\n",
      "2019 ../../data_misc/eia_data/emissions2019.xlsx\n",
      "2020 ../../data_misc/eia_data/emissions2020.xlsx\n",
      "2021 ../../data_misc/eia_data/emissions2021.xlsx\n"
     ]
    }
   ],
   "source": [
    "path = '../../data_misc/eia_data/emissions20*.xlsx'\n",
    "efiles = glob.glob(path)\n",
    "\n",
    "efiles.sort()\n",
    "for x, y in zip(years, efiles):\n",
    "    print(x,y)"
   ]
  },
  {
   "attachments": {},
   "cell_type": "markdown",
   "metadata": {},
   "source": [
    "# Get the generation data from EIA Form 923 for each emitting plant in NY"
   ]
  },
  {
   "cell_type": "code",
   "execution_count": 6,
   "metadata": {},
   "outputs": [],
   "source": [
    "zero_emission_codes = [\"SUN\",\"GEO\",\"OTH\",\"HPS\",\"HYC\",\"NUC\",\"ORW\",\"WND\"]"
   ]
  },
  {
   "cell_type": "code",
   "execution_count": 7,
   "metadata": {},
   "outputs": [],
   "source": [
    "f = files[-1]\n",
    "df = pd.read_excel(f,skiprows=5, na_values='.',\n",
    "                   usecols=[0,3,6,14,15]+list(np.arange(79,91,1).astype('int')))"
   ]
  },
  {
   "cell_type": "code",
   "execution_count": 43,
   "metadata": {},
   "outputs": [],
   "source": [
    "final_df = pd.DataFrame({'Month':months})\n",
    "co2_rate = {}"
   ]
  },
  {
   "cell_type": "code",
   "execution_count": 47,
   "metadata": {},
   "outputs": [
    {
     "name": "stdout",
     "output_type": "stream",
     "text": [
      "0 ../../data_misc/eia_form923/f923_2018/EIA923_Schedules_2_3_4_5_M_12_2018_Final_Revision.xlsx ../../data_misc/eia_data/emissions2018.xlsx\n",
      "1 ../../data_misc/eia_form923/f923_2019/EIA923_Schedules_2_3_4_5_M_12_2019_Final_Revision.xlsx ../../data_misc/eia_data/emissions2019.xlsx\n",
      "2 ../../data_misc/eia_form923/f923_2020/EIA923_Schedules_2_3_4_5_M_12_2020_Final_Revision.xlsx ../../data_misc/eia_data/emissions2020.xlsx\n",
      "3 ../../data_misc/eia_form923/f923_2021/EIA923_Schedules_2_3_4_5_M_12_2021_Final.xlsx ../../data_misc/eia_data/emissions2021.xlsx\n"
     ]
    }
   ],
   "source": [
    "for k,(i, j) in enumerate(zip(files[-4:], efiles)):\n",
    "    print(k, i, j)\n",
    "    f = files[-1]\n",
    "    df = pd.read_excel(i,skiprows=5, na_values='.',\n",
    "                       usecols=[0,3,6,14,15]+list(np.arange(79,91,1).astype('int')))\n",
    "    df_ny = df[(df['Plant State']=='NY')&(df['Plant Id'] < 99999)&(~df['AER\\nFuel Type Code'].isin(zero_emission_codes))]\n",
    "    df_ny.groupby('Plant Name').sum().iloc[:,1:15].sum(axis=1)*1000\n",
    "\n",
    "    # READ emissions data\n",
    "    edf = pd.read_excel(j, skiprows=1)\n",
    "    edf = edf[edf['Plant Code'].isin(df_ny['Plant Id'].values)].groupby('Plant Name').sum()[['Generation (kWh)',\n",
    "                                                                                             'Metric Tonnes of CO2 Emissions']]\n",
    "    edf['CO2 Rate (Tonne/kWh)'] = edf.iloc[:,1]/edf.iloc[:,0]\n",
    "\n",
    "    df_ny_gen = df_ny[df_ny['Plant Name'].isin(edf.index.values)].groupby('Plant Name').sum().iloc[:,1:]\n",
    "    edf_match = edf[(edf.index.isin(df_ny_gen.index.values))&(edf['Generation (kWh)']>0)]\n",
    "    edf_match['CO2 Rate (Tonne/MWh)'] = edf_match['CO2 Rate (Tonne/kWh)']*1e3\n",
    "\n",
    "    co2 = df_ny_gen.multiply(edf_match['CO2 Rate (Tonne/MWh)'],axis=0).sum(axis=0).values\n",
    "    y = 2018+k\n",
    "    final_df[f'{y}'] = co2\n",
    "    co2_rate[f'{y}'] = edf_match['CO2 Rate (Tonne/MWh)'].sum()"
   ]
  },
  {
   "cell_type": "code",
   "execution_count": 48,
   "metadata": {},
   "outputs": [],
   "source": [
    "final_df.set_index('Month',inplace=True)"
   ]
  },
  {
   "cell_type": "code",
   "execution_count": 49,
   "metadata": {},
   "outputs": [
    {
     "data": {
      "text/html": [
       "<div>\n",
       "<style scoped>\n",
       "    .dataframe tbody tr th:only-of-type {\n",
       "        vertical-align: middle;\n",
       "    }\n",
       "\n",
       "    .dataframe tbody tr th {\n",
       "        vertical-align: top;\n",
       "    }\n",
       "\n",
       "    .dataframe thead th {\n",
       "        text-align: right;\n",
       "    }\n",
       "</style>\n",
       "<table border=\"1\" class=\"dataframe\">\n",
       "  <thead>\n",
       "    <tr style=\"text-align: right;\">\n",
       "      <th></th>\n",
       "      <th>2021</th>\n",
       "      <th>2018</th>\n",
       "      <th>2019</th>\n",
       "      <th>2020</th>\n",
       "    </tr>\n",
       "    <tr>\n",
       "      <th>Month</th>\n",
       "      <th></th>\n",
       "      <th></th>\n",
       "      <th></th>\n",
       "      <th></th>\n",
       "    </tr>\n",
       "  </thead>\n",
       "  <tbody>\n",
       "    <tr>\n",
       "      <th>January</th>\n",
       "      <td>2.209024e+06</td>\n",
       "      <td>2.826108e+06</td>\n",
       "      <td>2.322773e+06</td>\n",
       "      <td>1.996027e+06</td>\n",
       "    </tr>\n",
       "    <tr>\n",
       "      <th>February</th>\n",
       "      <td>1.885290e+06</td>\n",
       "      <td>1.556969e+06</td>\n",
       "      <td>1.862208e+06</td>\n",
       "      <td>1.874304e+06</td>\n",
       "    </tr>\n",
       "    <tr>\n",
       "      <th>March</th>\n",
       "      <td>1.708783e+06</td>\n",
       "      <td>1.814657e+06</td>\n",
       "      <td>1.802658e+06</td>\n",
       "      <td>1.920999e+06</td>\n",
       "    </tr>\n",
       "    <tr>\n",
       "      <th>April</th>\n",
       "      <td>1.385598e+06</td>\n",
       "      <td>1.710736e+06</td>\n",
       "      <td>1.476082e+06</td>\n",
       "      <td>1.369798e+06</td>\n",
       "    </tr>\n",
       "    <tr>\n",
       "      <th>May</th>\n",
       "      <td>1.831803e+06</td>\n",
       "      <td>1.947297e+06</td>\n",
       "      <td>1.453577e+06</td>\n",
       "      <td>1.505068e+06</td>\n",
       "    </tr>\n",
       "    <tr>\n",
       "      <th>June</th>\n",
       "      <td>2.691186e+06</td>\n",
       "      <td>2.284630e+06</td>\n",
       "      <td>1.954267e+06</td>\n",
       "      <td>2.419796e+06</td>\n",
       "    </tr>\n",
       "    <tr>\n",
       "      <th>July</th>\n",
       "      <td>2.975032e+06</td>\n",
       "      <td>3.390081e+06</td>\n",
       "      <td>3.405657e+06</td>\n",
       "      <td>3.686715e+06</td>\n",
       "    </tr>\n",
       "    <tr>\n",
       "      <th>August</th>\n",
       "      <td>3.302219e+06</td>\n",
       "      <td>3.528874e+06</td>\n",
       "      <td>2.884714e+06</td>\n",
       "      <td>3.241764e+06</td>\n",
       "    </tr>\n",
       "    <tr>\n",
       "      <th>September</th>\n",
       "      <td>2.175396e+06</td>\n",
       "      <td>2.634774e+06</td>\n",
       "      <td>1.996884e+06</td>\n",
       "      <td>2.414002e+06</td>\n",
       "    </tr>\n",
       "    <tr>\n",
       "      <th>October</th>\n",
       "      <td>2.052661e+06</td>\n",
       "      <td>2.186042e+06</td>\n",
       "      <td>1.656454e+06</td>\n",
       "      <td>1.945268e+06</td>\n",
       "    </tr>\n",
       "    <tr>\n",
       "      <th>November</th>\n",
       "      <td>1.964147e+06</td>\n",
       "      <td>1.921790e+06</td>\n",
       "      <td>1.785127e+06</td>\n",
       "      <td>1.984749e+06</td>\n",
       "    </tr>\n",
       "    <tr>\n",
       "      <th>December</th>\n",
       "      <td>2.092702e+06</td>\n",
       "      <td>2.004078e+06</td>\n",
       "      <td>1.994223e+06</td>\n",
       "      <td>2.181416e+06</td>\n",
       "    </tr>\n",
       "  </tbody>\n",
       "</table>\n",
       "</div>"
      ],
      "text/plain": [
       "                   2021          2018          2019          2020\n",
       "Month                                                            \n",
       "January    2.209024e+06  2.826108e+06  2.322773e+06  1.996027e+06\n",
       "February   1.885290e+06  1.556969e+06  1.862208e+06  1.874304e+06\n",
       "March      1.708783e+06  1.814657e+06  1.802658e+06  1.920999e+06\n",
       "April      1.385598e+06  1.710736e+06  1.476082e+06  1.369798e+06\n",
       "May        1.831803e+06  1.947297e+06  1.453577e+06  1.505068e+06\n",
       "June       2.691186e+06  2.284630e+06  1.954267e+06  2.419796e+06\n",
       "July       2.975032e+06  3.390081e+06  3.405657e+06  3.686715e+06\n",
       "August     3.302219e+06  3.528874e+06  2.884714e+06  3.241764e+06\n",
       "September  2.175396e+06  2.634774e+06  1.996884e+06  2.414002e+06\n",
       "October    2.052661e+06  2.186042e+06  1.656454e+06  1.945268e+06\n",
       "November   1.964147e+06  1.921790e+06  1.785127e+06  1.984749e+06\n",
       "December   2.092702e+06  2.004078e+06  1.994223e+06  2.181416e+06"
      ]
     },
     "execution_count": 49,
     "metadata": {},
     "output_type": "execute_result"
    }
   ],
   "source": [
    "final_df"
   ]
  },
  {
   "cell_type": "code",
   "execution_count": 51,
   "metadata": {},
   "outputs": [
    {
     "data": {
      "text/plain": [
       "<matplotlib.legend.Legend at 0x7f987bb35250>"
      ]
     },
     "execution_count": 51,
     "metadata": {},
     "output_type": "execute_result"
    },
    {
     "data": {
      "image/png": "[encoded data removed]",
      "text/plain": [
       "<Figure size 576x360 with 2 Axes>"
      ]
     },
     "metadata": {
      "needs_background": "light"
     },
     "output_type": "display_data"
    }
   ],
   "source": [
    "fig, ax = plt.subplots(figsize=(8,5))\n",
    "ax2 = ax.twinx()\n",
    "final_df.plot(ax=ax)\n",
    "colors={2018:'tab:blue',2019:'tab:orange',2020:'tab:green',2021:'tab:red',}\n",
    "# for y,v in final_df.mean(axis=0).items():\n",
    "for y,v in co2_rate.items():\n",
    "    ax2.axhline(y=v, label=f'{y}', linestyle='--', color=colors[int(y)])\n",
    "ax.legend()\n",
    "ax2.legend()"
   ]
  },
  {
   "cell_type": "code",
   "execution_count": null,
   "metadata": {},
   "outputs": [],
   "source": []
  }
 ],
 "metadata": {
  "kernelspec": {
   "display_name": "Python 3 (ipykernel)",
   "language": "python",
   "name": "python3"
  },
  "language_info": {
   "codemirror_mode": {
    "name": "ipython",
    "version": 3
   },
   "file_extension": ".py",
   "mimetype": "text/x-python",
   "name": "python",
   "nbconvert_exporter": "python",
   "pygments_lexer": "ipython3",
   "version": "3.11.10"
  }
 },
 "nbformat": 4,
 "nbformat_minor": 4
}
